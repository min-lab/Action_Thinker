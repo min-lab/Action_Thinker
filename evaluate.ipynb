{
 "cells": [
  {
   "cell_type": "markdown",
   "metadata": {},
   "source": [
    "## 第零部分:初始化"
   ]
  },
  {
   "cell_type": "markdown",
   "metadata": {},
   "source": [
    "### 1.匯入函式庫"
   ]
  },
  {
   "cell_type": "code",
   "execution_count": 1,
   "metadata": {},
   "outputs": [],
   "source": [
    "import pandas as pd #數據檢視\n",
    "import numpy as np #數學運算\n",
    "\n",
    "import glob #搜尋檔案\n",
    "\n",
    "from joblib import load #載入模型\n",
    "\n",
    "import os #印出檔名"
   ]
  },
  {
   "cell_type": "markdown",
   "metadata": {},
   "source": [
    "### 2.指定資料位置\n",
    "* model_path 請選擇需要的模型檔案"
   ]
  },
  {
   "cell_type": "code",
   "execution_count": 2,
   "metadata": {},
   "outputs": [],
   "source": [
    "data_path =\"./test/\" #測試數據位置\n",
    "model_path =\"./model/lr.joblib\" #預訓練模型位置"
   ]
  },
  {
   "cell_type": "markdown",
   "metadata": {},
   "source": [
    "### 3.定義函式"
   ]
  },
  {
   "cell_type": "code",
   "execution_count": 3,
   "metadata": {},
   "outputs": [],
   "source": [
    "def read(filename):\n",
    "    data = pd.read_csv(filename,skiprows=np.arange(0,3),usecols = np.arange(0,7))\n",
    "    data.timestamp = (data.timestamp - data.timestamp.iloc[0])/1000\n",
    "    return data\n",
    "def sample(data):\n",
    "    sample_data = pd.DataFrame(data, columns = data.columns).drop(columns='timestamp').astype('float16')\n",
    "    return sample_data\n",
    "def feature_extraction(sample_data):\n",
    "    ax = sample_data.columns[3]\n",
    "    ay = sample_data.columns[4]\n",
    "    az = sample_data.columns[5]\n",
    "    wx = sample_data.columns[0]\n",
    "    wy = sample_data.columns[1]\n",
    "    wz = sample_data.columns[2]\n",
    "    min_ax = np.min(sample_data[ax])\n",
    "    max_ax = np.max(sample_data[ax])\n",
    "    mean_ax = np.mean(sample_data[ax])\n",
    "    std_ax = np.std(sample_data[ax])\n",
    "    min_ay = np.min(sample_data[ay])\n",
    "    max_ay = np.max(sample_data[ay])\n",
    "    mean_ay = np.mean(sample_data[ay])\n",
    "    std_ay = np.std(sample_data[ay])\n",
    "    min_az = np.min(sample_data[az])\n",
    "    max_az = np.max(sample_data[az])\n",
    "    mean_az = np.mean(sample_data[az])\n",
    "    std_az = np.std(sample_data[az])\n",
    "    min_wx = np.min(sample_data[wx])\n",
    "    max_wx = np.max(sample_data[wx])\n",
    "    mean_wx = np.mean(sample_data[wx])\n",
    "    std_wx = np.std(sample_data[wx])\n",
    "    min_wy = np.min(sample_data[wy])\n",
    "    max_wy = np.max(sample_data[wy])\n",
    "    mean_wy = np.mean(sample_data[wy])\n",
    "    std_wy = np.std(sample_data[wy])\n",
    "    min_wz = np.min(sample_data[wz])\n",
    "    max_wz = np.max(sample_data[wz])\n",
    "    mean_wz = np.mean(sample_data[wz])\n",
    "    std_wz = np.std(sample_data[wz])\n",
    "    \n",
    "    X = [min_ax, max_ax, mean_ax, std_ax, \\\n",
    "                  min_ay, max_ay, mean_ay, std_ay, \\\n",
    "                  min_az, max_az, mean_az, std_az, \\\n",
    "                  min_wx, max_wx, mean_wx, std_wx, \\\n",
    "                  min_wy, max_wy, mean_wy, std_wy, \\\n",
    "                  min_wz, max_wz, mean_wz, std_wz]\n",
    "    return X"
   ]
  },
  {
   "cell_type": "markdown",
   "metadata": {},
   "source": [
    "### 4.載入模型"
   ]
  },
  {
   "cell_type": "code",
   "execution_count": 4,
   "metadata": {},
   "outputs": [],
   "source": [
    "model = load(model_path)"
   ]
  },
  {
   "cell_type": "markdown",
   "metadata": {},
   "source": [
    "### 5.載入評估數據"
   ]
  },
  {
   "cell_type": "code",
   "execution_count": 5,
   "metadata": {},
   "outputs": [],
   "source": [
    "type_list = [\"原地走\",\"插秧\",\"大跳\"] #動作類型\n",
    "eval_action = [0,1,2] #動作順序\n",
    "eval_time = [20, 40, 60] #動作結束時間"
   ]
  },
  {
   "cell_type": "markdown",
   "metadata": {},
   "source": [
    "## 第一部分:評估精確度"
   ]
  },
  {
   "cell_type": "markdown",
   "metadata": {},
   "source": [
    "### 1.輸出評估數據"
   ]
  },
  {
   "cell_type": "code",
   "execution_count": 6,
   "metadata": {},
   "outputs": [
    {
     "name": "stdout",
     "output_type": "stream",
     "text": [
      "檔案名稱:HIMU-2020-07-24_17-22-00.csv\n",
      "錯誤項目:\n",
      "\t開始時間\t結束時間\t實際動作\t預測動作\n",
      "\t18.02\t20.04\t插秧\t\u001b[31m原地走\u001b[0m\n",
      "\t38.06\t40.08\t大跳\t\u001b[31m原地走\u001b[0m\n",
      "\t58.01\t60.02\t大跳\t\u001b[31m原地走\u001b[0m\n",
      "精確度:90.00%\n",
      "----------------------------------------\n",
      "檔案名稱:HIMU-2020-07-24_17-23-15.csv\n",
      "錯誤項目:\n",
      "\t開始時間\t結束時間\t實際動作\t預測動作\n",
      "\t18.04\t20.05\t插秧\t\u001b[31m原地走\u001b[0m\n",
      "\t38.09\t40.1\t大跳\t\u001b[31m原地走\u001b[0m\n",
      "精確度:93.33%\n",
      "----------------------------------------\n",
      "檔案名稱:HIMU-2020-07-24_17-24-33.csv\n",
      "錯誤項目:\n",
      "\t開始時間\t結束時間\t實際動作\t預測動作\n",
      "\t18.04\t20.06\t插秧\t\u001b[31m原地走\u001b[0m\n",
      "\t38.1\t40.01\t大跳\t\u001b[31m原地走\u001b[0m\n",
      "\t50.09\t52.0\t大跳\t\u001b[31m插秧\u001b[0m\n",
      "\t58.05\t60.06\t大跳\t\u001b[31m原地走\u001b[0m\n",
      "精確度:86.67%\n",
      "----------------------------------------\n",
      "檔案名稱:HIMU-2020-07-24_17-41-40.csv\n",
      "錯誤項目:\n",
      "\t開始時間\t結束時間\t實際動作\t預測動作\n",
      "\t18.03\t20.05\t插秧\t\u001b[31m原地走\u001b[0m\n",
      "\t38.08\t40.1\t大跳\t\u001b[31m原地走\u001b[0m\n",
      "\t40.1\t42.01\t大跳\t\u001b[31m原地走\u001b[0m\n",
      "精確度:90.00%\n",
      "----------------------------------------\n",
      "檔案名稱:HIMU-2020-07-24_17-42-50.csv\n",
      "錯誤項目:\n",
      "\t開始時間\t結束時間\t實際動作\t預測動作\n",
      "\t18.03\t20.05\t插秧\t\u001b[31m原地走\u001b[0m\n",
      "\t38.08\t40.1\t大跳\t\u001b[31m插秧\u001b[0m\n",
      "\t40.1\t42.01\t大跳\t\u001b[31m原地走\u001b[0m\n",
      "\t60.05\t62.06\t大跳\t\u001b[31m原地走\u001b[0m\n",
      "精確度:87.10%\n",
      "----------------------------------------\n",
      "平均精確度:89.42%\n"
     ]
    }
   ],
   "source": [
    "interval = 2 #判斷間格時間\n",
    "acc_sum = 0\n",
    "for filename in glob.glob(data_path + \"*.csv\"):\n",
    "    error = 0 \n",
    "    print(\"檔案名稱:\" + os.path.basename(filename))\n",
    "    print(\"錯誤項目:\")\n",
    "    print(\"\\t\" + \"開始時間\\t結束時間\\t實際動作\\t預測動作\")\n",
    "    \n",
    "    data = read(filename) #讀取數據\n",
    "    fragment = np.floor(max(data.timestamp))/interval #依時間分段\n",
    "    for idx in np.arange(0,fragment):\n",
    "        #切割數據\n",
    "        data_slice = data[(data.timestamp > idx*interval) & (data.timestamp < (idx+1)*interval)] \n",
    "        sample_data = sample(data_slice)\n",
    "        #資料處理\n",
    "        X = feature_extraction(sample_data)\n",
    "        X = np.reshape(X,(1,24))\n",
    "        X_df = pd.DataFrame(X)\n",
    "        #預測結果\n",
    "        y = model.predict(X_df)\n",
    "        #找出這段時間的實際動作\n",
    "        try:\n",
    "            action = eval_action[next(x[0] for x in enumerate(eval_time) if x[1] > (idx+1)*interval)]\n",
    "        except StopIteration:\n",
    "            pass\n",
    "        #比較實際動作與預測動作，有錯誤則印出錯誤點\n",
    "        if action != y[0]:\n",
    "            error = error + 1 #累加錯誤數量\n",
    "            print(\"\\t\" + str(round(data.timestamp[data.timestamp > (idx)*interval].iloc[0],2)) + \\\n",
    "                  \"\\t\" + str(round(data.timestamp[data.timestamp > (idx+1)*interval].iloc[0],2)) + \\\n",
    "                  \"\\t\" + type_list[action]  + \"\\t\" + \"\\x1b[31m\" + type_list[y[0]] + \"\\x1b[0m\")\n",
    "    #計算精確度\n",
    "    acc = (fragment-error)/fragment*100\n",
    "    acc_sum = acc_sum + acc\n",
    "    print(f\"精確度:{acc:.2f}%\")\n",
    "    print(\"-\"*40)\n",
    "acc_mean = acc_sum/len(glob.glob(data_path + \"*.csv\"))\n",
    "print(f\"平均精確度:{acc_mean:.2f}%\")"
   ]
  },
  {
   "cell_type": "code",
   "execution_count": null,
   "metadata": {},
   "outputs": [],
   "source": []
  }
 ],
 "metadata": {
  "kernelspec": {
   "display_name": "Python 3",
   "language": "python",
   "name": "python3"
  },
  "language_info": {
   "codemirror_mode": {
    "name": "ipython",
    "version": 3
   },
   "file_extension": ".py",
   "mimetype": "text/x-python",
   "name": "python",
   "nbconvert_exporter": "python",
   "pygments_lexer": "ipython3",
   "version": "3.7.7"
  }
 },
 "nbformat": 4,
 "nbformat_minor": 4
}

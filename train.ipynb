{
 "cells": [
  {
   "cell_type": "markdown",
   "metadata": {},
   "source": [
    "## 第零部分:初始化"
   ]
  },
  {
   "cell_type": "markdown",
   "metadata": {},
   "source": [
    "### 1.匯入函式庫"
   ]
  },
  {
   "cell_type": "code",
   "execution_count": 1,
   "metadata": {},
   "outputs": [],
   "source": [
    "import pandas as pd #數據檢視\n",
    "import numpy as np #數學運算\n",
    "\n",
    "import glob #搜尋檔案\n",
    "\n",
    "from sklearn.linear_model import LogisticRegression #邏輯斯迴歸\n",
    "from sklearn.svm import SVC #支持向量機\n",
    "from sklearn.ensemble import RandomForestClassifier #隨機森林\n",
    "from xgboost import XGBClassifier #Extreme Gradient Boosting\n",
    "from lightgbm import LGBMClassifier #Light Gradient Boosting\n",
    "\n",
    "from sklearn.model_selection import cross_validate #交叉驗證\n",
    "from sklearn.metrics import accuracy_score #計算精確度\n",
    "from joblib import dump #儲存模型"
   ]
  },
  {
   "cell_type": "markdown",
   "metadata": {},
   "source": [
    "### 2.指定資料位置"
   ]
  },
  {
   "cell_type": "code",
   "execution_count": 2,
   "metadata": {},
   "outputs": [],
   "source": [
    "data_path = \"./train/\" #訓練數據位置\n",
    "save_model_path = \"./model/\" #儲存模型位置"
   ]
  },
  {
   "cell_type": "markdown",
   "metadata": {},
   "source": [
    "## 第一部分:單筆資料處理及觀察"
   ]
  },
  {
   "cell_type": "markdown",
   "metadata": {},
   "source": [
    "### 1.讀取資料"
   ]
  },
  {
   "cell_type": "code",
   "execution_count": 3,
   "metadata": {},
   "outputs": [],
   "source": [
    "data = pd.read_csv(\"./train/01原地走/HIMU-2020-07-24_16-53-19.csv\",skiprows=np.arange(0,3),usecols = np.arange(0,7)) #讀取csv擋為pandas DataFrame格式\n",
    "data.timestamp = (data.timestamp - data.timestamp.iloc[0])/1000 #時間單位由毫秒轉為秒"
   ]
  },
  {
   "cell_type": "markdown",
   "metadata": {},
   "source": [
    "### 2.資料取樣"
   ]
  },
  {
   "cell_type": "markdown",
   "metadata": {},
   "source": [
    "* 降低取樣率**(可調)**\n",
    "* 需import math"
   ]
  },
  {
   "cell_type": "raw",
   "metadata": {},
   "source": [
    "sample_data_list = []\n",
    "for t in np.arange(0, math.floor((max(data.time) - min(data.time))/0.05)):\n",
    "    sample_data_list.append(data[data.time>min(data.time) + t*0.05].iloc[0].values)"
   ]
  },
  {
   "cell_type": "markdown",
   "metadata": {},
   "source": [
    "* 降低精度, float64轉float16**(可調)**"
   ]
  },
  {
   "cell_type": "code",
   "execution_count": 4,
   "metadata": {},
   "outputs": [],
   "source": [
    "sample_data = pd.DataFrame(data, columns = data.columns).drop(columns='timestamp').astype('float16')"
   ]
  },
  {
   "cell_type": "markdown",
   "metadata": {},
   "source": [
    "### 3.觀察資料\n",
    "* 刪除;可看統計資料"
   ]
  },
  {
   "cell_type": "code",
   "execution_count": 5,
   "metadata": {},
   "outputs": [],
   "source": [
    "sample_data.describe();"
   ]
  },
  {
   "cell_type": "markdown",
   "metadata": {},
   "source": [
    "### 4.特徵萃取\n",
    "#### 加速度與角速度六軸\n",
    "* 最大值\n",
    "* 最小值\n",
    "* 平均\n",
    "* 標準差"
   ]
  },
  {
   "cell_type": "code",
   "execution_count": 6,
   "metadata": {},
   "outputs": [],
   "source": [
    "#轉換欄位名稱\n",
    "ax = sample_data.columns[3]\n",
    "ay = sample_data.columns[4]\n",
    "az = sample_data.columns[5]\n",
    "wx = sample_data.columns[0]\n",
    "wy = sample_data.columns[1]\n",
    "wz = sample_data.columns[2]\n",
    "#特徵值\n",
    "min_ax = np.min(sample_data[ax])\n",
    "max_ax = np.max(sample_data[ax])\n",
    "mean_ax = np.mean(sample_data[ax])\n",
    "std_ax = np.std(sample_data[ax])\n",
    "min_ay = np.min(sample_data[ay])\n",
    "max_ay = np.max(sample_data[ay])\n",
    "mean_ay = np.mean(sample_data[ay])\n",
    "std_ay = np.std(sample_data[ay])\n",
    "min_az = np.min(sample_data[az])\n",
    "max_az = np.max(sample_data[az])\n",
    "mean_az = np.mean(sample_data[az])\n",
    "std_az = np.std(sample_data[az])\n",
    "min_wx = np.min(sample_data[wx])\n",
    "max_wx = np.max(sample_data[wx])\n",
    "mean_wx = np.mean(sample_data[wx])\n",
    "std_wx = np.std(sample_data[wx])\n",
    "min_wy = np.min(sample_data[wy])\n",
    "max_wy = np.max(sample_data[wy])\n",
    "mean_wy = np.mean(sample_data[wy])\n",
    "std_wy = np.std(sample_data[wy])\n",
    "min_wz = np.min(sample_data[wz])\n",
    "max_wz = np.max(sample_data[wz])\n",
    "mean_wz = np.mean(sample_data[wz])\n",
    "std_wz = np.std(sample_data[wz])\n",
    "#轉為列表(list)\n",
    "X = [min_ax, max_ax, mean_ax, std_ax, \\\n",
    "              min_ay, max_ay, mean_ay, std_ay, \\\n",
    "              min_az, max_az, mean_az, std_az, \\\n",
    "              min_wx, max_wx, mean_wx, std_wx, \\\n",
    "              min_wy, max_wy, mean_wy, std_wy, \\\n",
    "              min_wz, max_wz, mean_wz, std_wz]"
   ]
  },
  {
   "cell_type": "markdown",
   "metadata": {},
   "source": [
    "### 5.轉成函式"
   ]
  },
  {
   "cell_type": "code",
   "execution_count": 7,
   "metadata": {},
   "outputs": [],
   "source": [
    "def read(filename):\n",
    "    data = pd.read_csv(filename,skiprows=np.arange(0,3),usecols = np.arange(0,7))\n",
    "    data.timestamp = (data.timestamp - data.timestamp.iloc[0])/1000\n",
    "    return data\n",
    "def sample(data):\n",
    "    sample_data = pd.DataFrame(data, columns = data.columns).drop(columns='timestamp').astype('float16')\n",
    "    return sample_data\n",
    "def feature_extraction(sample_data):\n",
    "    min_ax = np.min(sample_data[ax])\n",
    "    max_ax = np.max(sample_data[ax])\n",
    "    mean_ax = np.mean(sample_data[ax])\n",
    "    std_ax = np.std(sample_data[ax])\n",
    "    min_ay = np.min(sample_data[ay])\n",
    "    max_ay = np.max(sample_data[ay])\n",
    "    mean_ay = np.mean(sample_data[ay])\n",
    "    std_ay = np.std(sample_data[ay])\n",
    "    min_az = np.min(sample_data[az])\n",
    "    max_az = np.max(sample_data[az])\n",
    "    mean_az = np.mean(sample_data[az])\n",
    "    std_az = np.std(sample_data[az])\n",
    "    min_wx = np.min(sample_data[wx])\n",
    "    max_wx = np.max(sample_data[wx])\n",
    "    mean_wx = np.mean(sample_data[wx])\n",
    "    std_wx = np.std(sample_data[wx])\n",
    "    min_wy = np.min(sample_data[wy])\n",
    "    max_wy = np.max(sample_data[wy])\n",
    "    mean_wy = np.mean(sample_data[wy])\n",
    "    std_wy = np.std(sample_data[wy])\n",
    "    min_wz = np.min(sample_data[wz])\n",
    "    max_wz = np.max(sample_data[wz])\n",
    "    mean_wz = np.mean(sample_data[wz])\n",
    "    std_wz = np.std(sample_data[wz])\n",
    "    \n",
    "    X = [min_ax, max_ax, mean_ax, std_ax, \\\n",
    "                  min_ay, max_ay, mean_ay, std_ay, \\\n",
    "                  min_az, max_az, mean_az, std_az, \\\n",
    "                  min_wx, max_wx, mean_wx, std_wx, \\\n",
    "                  min_wy, max_wy, mean_wy, std_wy, \\\n",
    "                  min_wz, max_wz, mean_wz, std_wz]\n",
    "    return X"
   ]
  },
  {
   "cell_type": "markdown",
   "metadata": {},
   "source": [
    "## 第二部分:多筆資料處理及訓練模型"
   ]
  },
  {
   "cell_type": "markdown",
   "metadata": {},
   "source": [
    "### 1.獨熱編碼"
   ]
  },
  {
   "cell_type": "code",
   "execution_count": 8,
   "metadata": {},
   "outputs": [],
   "source": [
    "def onehot(filename):\n",
    "    #設為使用global變數\n",
    "    global type_tmp\n",
    "    global type_cnt\n",
    "    global init\n",
    "    #第一筆時紀錄種類\n",
    "    if not init:\n",
    "        type_tmp = filename[8:10]\n",
    "        init = True\n",
    "    #之後有不同的種類就增加計數\n",
    "    else:\n",
    "        if filename[8:10] != type_tmp:\n",
    "            type_tmp = filename[8:10]\n",
    "            type_cnt = type_cnt + 1\n",
    "    return type_cnt"
   ]
  },
  {
   "cell_type": "code",
   "execution_count": 9,
   "metadata": {},
   "outputs": [],
   "source": [
    "type_tmp = ''\n",
    "type_cnt = 0\n",
    "init = False\n",
    "X = []\n",
    "y = []\n",
    "for filename in glob.glob(data_path + \"*/*.csv\"):\n",
    "    #數據處理\n",
    "    data = read(filename)\n",
    "    sample_data = sample(data)\n",
    "    X.append(feature_extraction(sample_data))\n",
    "    y.append(onehot(filename))\n",
    "X_df = pd.DataFrame(X) #List轉成DataFrame格式，xgboost需要使用此格式"
   ]
  },
  {
   "cell_type": "markdown",
   "metadata": {},
   "source": [
    "### 4.訓練模型"
   ]
  },
  {
   "cell_type": "markdown",
   "metadata": {},
   "source": [
    "#### 1.邏輯斯回歸"
   ]
  },
  {
   "cell_type": "code",
   "execution_count": 10,
   "metadata": {},
   "outputs": [
    {
     "name": "stdout",
     "output_type": "stream",
     "text": [
      "Accuracy: 100.00%\n"
     ]
    }
   ],
   "source": [
    "lr = LogisticRegression()\n",
    "lr_result = cross_validate(lr, X, y, cv=5, return_estimator = True) #交叉驗證\n",
    "lr_model = lr_result['estimator'][lr_result['test_score'].argmax()] #取出最好的分類器\n",
    "#印出平均精確度\n",
    "test_mean = np.mean(lr_result['test_score'])*100\n",
    "print(f\"Accuracy: {test_mean:.2f}%\")\n",
    "dump(lr_model, save_model_path +'lr.joblib'); #儲存模型"
   ]
  },
  {
   "cell_type": "markdown",
   "metadata": {},
   "source": [
    "#### 2.支持向量機"
   ]
  },
  {
   "cell_type": "code",
   "execution_count": 11,
   "metadata": {},
   "outputs": [
    {
     "name": "stdout",
     "output_type": "stream",
     "text": [
      "Accuracy: 100.00%\n"
     ]
    }
   ],
   "source": [
    "svc = SVC()\n",
    "svc_result = cross_validate(svc, X, y, cv=5, return_estimator = True) #交叉驗證\n",
    "svc_model = svc_result['estimator'][svc_result['test_score'].argmax()] #取出最好的分類器\n",
    "#印出平均精確度\n",
    "test_mean = np.mean(svc_result['test_score'])*100\n",
    "print(f\"Accuracy: {test_mean:.2f}%\")\n",
    "dump(svc_model, save_model_path +'svc.joblib'); #儲存模型"
   ]
  },
  {
   "cell_type": "markdown",
   "metadata": {},
   "source": [
    "#### 3.隨機森林"
   ]
  },
  {
   "cell_type": "code",
   "execution_count": 12,
   "metadata": {},
   "outputs": [
    {
     "name": "stdout",
     "output_type": "stream",
     "text": [
      "Accuracy: 100.00%\n"
     ]
    }
   ],
   "source": [
    "rf = RandomForestClassifier()\n",
    "rf_result = cross_validate(rf, X, y, cv=5, return_estimator = True) #交叉驗證\n",
    "rf_model = rf_result['estimator'][rf_result['test_score'].argmax()] #取出最好的分類器\n",
    "#印出平均精確度\n",
    "test_mean = np.mean(rf_result['test_score'])*100\n",
    "print(f\"Accuracy: {test_mean:.2f}%\")\n",
    "dump(rf_model, save_model_path + 'rf.joblib'); #儲存模型"
   ]
  },
  {
   "cell_type": "markdown",
   "metadata": {},
   "source": [
    "#### 4.Extreme Gradient Boosting"
   ]
  },
  {
   "cell_type": "code",
   "execution_count": 13,
   "metadata": {},
   "outputs": [
    {
     "name": "stdout",
     "output_type": "stream",
     "text": [
      "Accuracy: 96.67%\n"
     ]
    }
   ],
   "source": [
    "xgb = XGBClassifier()\n",
    "xgb_result = cross_validate(xgb, X_df, y, cv=5, return_estimator = True) #交叉驗證\n",
    "xgb_model = xgb_result['estimator'][xgb_result['test_score'].argmax()] #取出最好的分類器\n",
    "#印出平均精確度\n",
    "test_mean = np.mean(xgb_result['test_score'])*100\n",
    "print(f\"Accuracy: {test_mean:.2f}%\")\n",
    "dump(xgb_model, save_model_path + 'xgb.joblib'); #儲存模型"
   ]
  },
  {
   "cell_type": "markdown",
   "metadata": {},
   "source": [
    "#### 5.Light Gradient Boosting"
   ]
  },
  {
   "cell_type": "code",
   "execution_count": 14,
   "metadata": {},
   "outputs": [
    {
     "name": "stdout",
     "output_type": "stream",
     "text": [
      "Accuracy: 100.00%\n"
     ]
    }
   ],
   "source": [
    "lgb = LGBMClassifier()\n",
    "lgb_result = cross_validate(lgb, X, y, cv=5, return_estimator = True) #交叉驗證\n",
    "lgb_model = lgb_result['estimator'][lgb_result['test_score'].argmax()] #取出最好的分類器\n",
    "#印出平均精確度\n",
    "test_mean = np.mean(lgb_result['test_score'])*100\n",
    "print(f\"Accuracy: {test_mean:.2f}%\")\n",
    "dump(lgb_model, save_model_path + 'lgb.joblib');"
   ]
  },
  {
   "cell_type": "code",
   "execution_count": null,
   "metadata": {},
   "outputs": [],
   "source": []
  }
 ],
 "metadata": {
  "kernelspec": {
   "display_name": "Python 3.7.7 64-bit ('Science': conda)",
   "language": "python",
   "name": "python37764bitscienceconda6997fdb444b04444bc5087cd45b00aec"
  },
  "language_info": {
   "codemirror_mode": {
    "name": "ipython",
    "version": 3
   },
   "file_extension": ".py",
   "mimetype": "text/x-python",
   "name": "python",
   "nbconvert_exporter": "python",
   "pygments_lexer": "ipython3",
   "version": "3.7.7"
  }
 },
 "nbformat": 4,
 "nbformat_minor": 4
}
